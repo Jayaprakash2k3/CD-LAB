{
 "cells": [
  {
   "cell_type": "code",
   "execution_count": 37,
   "metadata": {},
   "outputs": [
    {
     "name": "stdout",
     "output_type": "stream",
     "text": [
      "a<<(t,+)>>b\n",
      "leaf<<(,a)>>leaf\n",
      "leaf<<(,b)>>leaf\n",
      "+<<(d,+)>>c\n",
      "leaf<<(,c)>>leaf\n",
      "+<<(e,*)>>+\n"
     ]
    }
   ],
   "source": [
    "class node:\n",
    "    def __init__(self,data,left,right):\n",
    "        self.operation=data\n",
    "        self.Left=left\n",
    "        self.Right=right\n",
    "        self.Result=\"\"\n",
    "# n=int(input(\"Enter the number of 3 Address Code:\"))\n",
    "# data=[input(\"Enter the code for \"+str(i+1)+\":\") for i in range(n)]\n",
    "    def __str__(self) -> str:\n",
    "        return self.Result\n",
    "n=3\n",
    "leaf=node(\"leaf\",None,None)\n",
    "data=['t=a+b','d=t+c','e=t*d']\n",
    "nodeList={}\n",
    "for each in data:\n",
    "    result = each[0]\n",
    "    opr1 = each[2]\n",
    "    opr2 = each[4]\n",
    "    if(result not in nodeList):\n",
    "        nodeList[result]=node(result,leaf,leaf)\n",
    "    if(opr1 not in nodeList):\n",
    "        nodeList[opr1] = node(opr1, leaf, leaf)\n",
    "    if(opr2 not in nodeList):\n",
    "        nodeList[opr2] = node(opr2, leaf, leaf)\n",
    "    operator = node(each[3], leaf, leaf)\n",
    "    operator.Left=nodeList[opr1]\n",
    "    operator.Right=nodeList[opr2]\n",
    "    operator.Result = result\n",
    "    nodeList[result]=operator\n",
    "for each in nodeList:\n",
    "    print(nodeList[each].Left.operation+\"<<(\"+\n",
    "          nodeList[each].Result+\",\"+\n",
    "          nodeList[each].operation+\")>>\"+\n",
    "          nodeList[each].Right.operation)\n",
    "    "
   ]
  },
  {
   "cell_type": "code",
   "execution_count": null,
   "metadata": {},
   "outputs": [],
   "source": []
  }
 ],
 "metadata": {
  "kernelspec": {
   "display_name": "Python 3",
   "language": "python",
   "name": "python3"
  },
  "language_info": {
   "codemirror_mode": {
    "name": "ipython",
    "version": 3
   },
   "file_extension": ".py",
   "mimetype": "text/x-python",
   "name": "python",
   "nbconvert_exporter": "python",
   "pygments_lexer": "ipython3",
   "version": "3.10.7"
  },
  "orig_nbformat": 4
 },
 "nbformat": 4,
 "nbformat_minor": 2
}
